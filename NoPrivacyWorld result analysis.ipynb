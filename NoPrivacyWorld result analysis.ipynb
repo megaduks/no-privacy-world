{
 "cells": [
  {
   "cell_type": "code",
   "execution_count": 1,
   "metadata": {
    "ExecuteTime": {
     "end_time": "2019-12-16T17:32:44.382655Z",
     "start_time": "2019-12-16T17:32:43.097075Z"
    }
   },
   "outputs": [
    {
     "data": {
      "text/html": [
       "<style>.container { width:75% !important; }</style>"
      ],
      "text/plain": [
       "<IPython.core.display.HTML object>"
      ]
     },
     "metadata": {},
     "output_type": "display_data"
    }
   ],
   "source": [
    "%load_ext autoreload\n",
    "%autoreload 2\n",
    "\n",
    "import matplotlib\n",
    "import matplotlib.pyplot as plt\n",
    "%matplotlib inline\n",
    "\n",
    "import warnings\n",
    "warnings.filterwarnings(\"ignore\", category=DeprecationWarning)\n",
    "\n",
    "import numpy as np\n",
    "import pandas as pd\n",
    "\n",
    "from IPython.core.display import display, HTML\n",
    "from IPython.display import clear_output\n",
    "\n",
    "pd.options.display.max_rows = 500\n",
    "pd.options.display.max_columns = 500\n",
    "pd.options.display.width = 2000\n",
    "pd.options.display.max_colwidth = 2000\n",
    "\n",
    "display(HTML(\"<style>.container { width:75% !important; }</style>\"))"
   ]
  },
  {
   "cell_type": "code",
   "execution_count": 2,
   "metadata": {
    "ExecuteTime": {
     "end_time": "2019-12-16T17:32:46.061068Z",
     "start_time": "2019-12-16T17:32:45.994333Z"
    }
   },
   "outputs": [
    {
     "data": {
      "text/plain": [
       "Index(['alpha', 'avg_patrician_wealth', 'avg_plebeian_wealth', 'beta', 'diff_avg_wealth', 'diff_num_trans', 'diff_wealth_by_trans', 'gamma', 'mu', 'n_patricians', 'n_plebeians', 'patrician_transactions', 'patrician_wealth_by_trans', 'plebeian_transactions', 'plebeian_wealth_by_trans', 'sigma', 'symmetric'], dtype='object')"
      ]
     },
     "execution_count": 2,
     "metadata": {},
     "output_type": "execute_result"
    }
   ],
   "source": [
    "df = pd.read_csv('results.csv')\n",
    "df.columns"
   ]
  },
  {
   "cell_type": "code",
   "execution_count": 3,
   "metadata": {
    "ExecuteTime": {
     "end_time": "2019-12-16T17:32:47.743465Z",
     "start_time": "2019-12-16T17:32:47.687207Z"
    }
   },
   "outputs": [
    {
     "data": {
      "text/html": [
       "<div>\n",
       "<style scoped>\n",
       "    .dataframe tbody tr th:only-of-type {\n",
       "        vertical-align: middle;\n",
       "    }\n",
       "\n",
       "    .dataframe tbody tr th {\n",
       "        vertical-align: top;\n",
       "    }\n",
       "\n",
       "    .dataframe thead th {\n",
       "        text-align: right;\n",
       "    }\n",
       "</style>\n",
       "<table border=\"1\" class=\"dataframe\">\n",
       "  <thead>\n",
       "    <tr style=\"text-align: right;\">\n",
       "      <th></th>\n",
       "      <th>alpha</th>\n",
       "      <th>avg_patrician_wealth</th>\n",
       "      <th>avg_plebeian_wealth</th>\n",
       "      <th>beta</th>\n",
       "      <th>diff_avg_wealth</th>\n",
       "      <th>diff_num_trans</th>\n",
       "      <th>diff_wealth_by_trans</th>\n",
       "      <th>gamma</th>\n",
       "      <th>mu</th>\n",
       "      <th>n_patricians</th>\n",
       "      <th>n_plebeians</th>\n",
       "      <th>patrician_transactions</th>\n",
       "      <th>patrician_wealth_by_trans</th>\n",
       "      <th>plebeian_transactions</th>\n",
       "      <th>plebeian_wealth_by_trans</th>\n",
       "      <th>sigma</th>\n",
       "      <th>symmetric</th>\n",
       "    </tr>\n",
       "  </thead>\n",
       "  <tbody>\n",
       "    <tr>\n",
       "      <th>0</th>\n",
       "      <td>0.5</td>\n",
       "      <td>5.017910</td>\n",
       "      <td>5.108890</td>\n",
       "      <td>0.5</td>\n",
       "      <td>0.090980</td>\n",
       "      <td>0</td>\n",
       "      <td>0.005422</td>\n",
       "      <td>0.25</td>\n",
       "      <td>(-0.5, 0.5)</td>\n",
       "      <td>100</td>\n",
       "      <td>100</td>\n",
       "      <td>1678</td>\n",
       "      <td>0.299041</td>\n",
       "      <td>1678</td>\n",
       "      <td>0.304463</td>\n",
       "      <td>0.1</td>\n",
       "      <td>True</td>\n",
       "    </tr>\n",
       "    <tr>\n",
       "      <th>1</th>\n",
       "      <td>0.5</td>\n",
       "      <td>5.350806</td>\n",
       "      <td>5.265715</td>\n",
       "      <td>0.5</td>\n",
       "      <td>-0.085090</td>\n",
       "      <td>0</td>\n",
       "      <td>-0.004407</td>\n",
       "      <td>0.50</td>\n",
       "      <td>(-0.5, 0.5)</td>\n",
       "      <td>100</td>\n",
       "      <td>100</td>\n",
       "      <td>1931</td>\n",
       "      <td>0.277100</td>\n",
       "      <td>1931</td>\n",
       "      <td>0.272694</td>\n",
       "      <td>0.1</td>\n",
       "      <td>True</td>\n",
       "    </tr>\n",
       "    <tr>\n",
       "      <th>2</th>\n",
       "      <td>0.5</td>\n",
       "      <td>5.426264</td>\n",
       "      <td>5.447329</td>\n",
       "      <td>0.5</td>\n",
       "      <td>0.021066</td>\n",
       "      <td>0</td>\n",
       "      <td>0.001032</td>\n",
       "      <td>1.00</td>\n",
       "      <td>(-0.5, 0.5)</td>\n",
       "      <td>100</td>\n",
       "      <td>100</td>\n",
       "      <td>2041</td>\n",
       "      <td>0.265863</td>\n",
       "      <td>2041</td>\n",
       "      <td>0.266895</td>\n",
       "      <td>0.1</td>\n",
       "      <td>True</td>\n",
       "    </tr>\n",
       "    <tr>\n",
       "      <th>3</th>\n",
       "      <td>0.5</td>\n",
       "      <td>2.937225</td>\n",
       "      <td>2.951901</td>\n",
       "      <td>1.0</td>\n",
       "      <td>0.014677</td>\n",
       "      <td>0</td>\n",
       "      <td>0.001422</td>\n",
       "      <td>0.25</td>\n",
       "      <td>(-0.5, 0.5)</td>\n",
       "      <td>100</td>\n",
       "      <td>100</td>\n",
       "      <td>1032</td>\n",
       "      <td>0.284615</td>\n",
       "      <td>1032</td>\n",
       "      <td>0.286037</td>\n",
       "      <td>0.1</td>\n",
       "      <td>True</td>\n",
       "    </tr>\n",
       "    <tr>\n",
       "      <th>4</th>\n",
       "      <td>0.5</td>\n",
       "      <td>3.496850</td>\n",
       "      <td>3.378633</td>\n",
       "      <td>1.0</td>\n",
       "      <td>-0.118216</td>\n",
       "      <td>0</td>\n",
       "      <td>-0.009367</td>\n",
       "      <td>0.50</td>\n",
       "      <td>(-0.5, 0.5)</td>\n",
       "      <td>100</td>\n",
       "      <td>100</td>\n",
       "      <td>1262</td>\n",
       "      <td>0.277088</td>\n",
       "      <td>1262</td>\n",
       "      <td>0.267721</td>\n",
       "      <td>0.1</td>\n",
       "      <td>True</td>\n",
       "    </tr>\n",
       "  </tbody>\n",
       "</table>\n",
       "</div>"
      ],
      "text/plain": [
       "   alpha  avg_patrician_wealth  avg_plebeian_wealth  beta  diff_avg_wealth  diff_num_trans  diff_wealth_by_trans  gamma           mu  n_patricians  n_plebeians  patrician_transactions  patrician_wealth_by_trans  plebeian_transactions  plebeian_wealth_by_trans  sigma  symmetric\n",
       "0    0.5              5.017910             5.108890   0.5         0.090980               0              0.005422   0.25  (-0.5, 0.5)           100          100                    1678                   0.299041                   1678                  0.304463    0.1       True\n",
       "1    0.5              5.350806             5.265715   0.5        -0.085090               0             -0.004407   0.50  (-0.5, 0.5)           100          100                    1931                   0.277100                   1931                  0.272694    0.1       True\n",
       "2    0.5              5.426264             5.447329   0.5         0.021066               0              0.001032   1.00  (-0.5, 0.5)           100          100                    2041                   0.265863                   2041                  0.266895    0.1       True\n",
       "3    0.5              2.937225             2.951901   1.0         0.014677               0              0.001422   0.25  (-0.5, 0.5)           100          100                    1032                   0.284615                   1032                  0.286037    0.1       True\n",
       "4    0.5              3.496850             3.378633   1.0        -0.118216               0             -0.009367   0.50  (-0.5, 0.5)           100          100                    1262                   0.277088                   1262                  0.267721    0.1       True"
      ]
     },
     "execution_count": 3,
     "metadata": {},
     "output_type": "execute_result"
    }
   ],
   "source": [
    "df.head()"
   ]
  },
  {
   "cell_type": "code",
   "execution_count": 19,
   "metadata": {
    "ExecuteTime": {
     "end_time": "2019-12-16T17:38:32.392613Z",
     "start_time": "2019-12-16T17:38:29.829011Z"
    }
   },
   "outputs": [
    {
     "data": {
      "text/plain": [
       "<matplotlib.legend.Legend at 0x7fd7755b5f60>"
      ]
     },
     "execution_count": 19,
     "metadata": {},
     "output_type": "execute_result"
    },
    {
     "data": {
      "image/png": "[encoded data removed]",
      "text/plain": [
       "<Figure size 432x288 with 1 Axes>"
      ]
     },
     "metadata": {
      "needs_background": "light"
     },
     "output_type": "display_data"
    }
   ],
   "source": [
    "mu_idx = df.mu == \"(-3.0, 3.0)\"\n",
    "sigma_idx = df.sigma == 0.1\n",
    "beta_idx = df.beta == 0.5\n",
    "gamma_idx = df.gamma == 1.0\n",
    "\n",
    "x = df[mu_idx & sigma_idx & beta_idx & gamma_idx]['alpha']\n",
    "\n",
    "y_patrician_wealth = df[mu_idx & sigma_idx & beta_idx & gamma_idx]['patrician_wealth_by_trans']\n",
    "y_plebeian_wealth = df[mu_idx &  sigma_idx & beta_idx & gamma_idx]['plebeian_wealth_by_trans']\n",
    "\n",
    "matplotlib.rcParams['text.usetex'] = True\n",
    "\n",
    "fig = plt.figure()\n",
    "ax = fig.gca()\n",
    "\n",
    "ax.plot(x, y_patrician_wealth, label='Avg patrician wealth')\n",
    "ax.plot(x, y_plebeian_wealth, label='Avg plebeian wealth')\n",
    "\n",
    "ax.set_title(r\"Average wealth, $\\beta=0.5$, $\\gamma=0.25$\")\n",
    "ax.set_xlabel(r\"$\\alpha$\")\n",
    "ax.set_ylabel(\"wealth\")\n",
    "ax.legend()"
   ]
  },
  {
   "cell_type": "code",
   "execution_count": 17,
   "metadata": {
    "ExecuteTime": {
     "end_time": "2019-12-16T17:38:01.154495Z",
     "start_time": "2019-12-16T17:38:01.122772Z"
    }
   },
   "outputs": [
    {
     "data": {
      "text/plain": [
       "array([0.25, 0.5 , 1.  ])"
      ]
     },
     "execution_count": 17,
     "metadata": {},
     "output_type": "execute_result"
    }
   ],
   "source": [
    "df.gamma.unique()"
   ]
  },
  {
   "cell_type": "code",
   "execution_count": null,
   "metadata": {},
   "outputs": [],
   "source": []
  }
 ],
 "metadata": {
  "kernelspec": {
   "display_name": "Python 3",
   "language": "python",
   "name": "python3"
  },
  "language_info": {
   "codemirror_mode": {
    "name": "ipython",
    "version": 3
   },
   "file_extension": ".py",
   "mimetype": "text/x-python",
   "name": "python",
   "nbconvert_exporter": "python",
   "pygments_lexer": "ipython3",
   "version": "3.7.3"
  },
  "toc": {
   "base_numbering": 1,
   "nav_menu": {},
   "number_sections": true,
   "sideBar": true,
   "skip_h1_title": false,
   "title_cell": "Table of Contents",
   "title_sidebar": "Contents",
   "toc_cell": false,
   "toc_position": {},
   "toc_section_display": true,
   "toc_window_display": false
  }
 },
 "nbformat": 4,
 "nbformat_minor": 2
}
