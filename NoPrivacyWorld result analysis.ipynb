{
 "cells": [
  {
   "cell_type": "code",
   "execution_count": 9,
   "metadata": {
    "ExecuteTime": {
     "end_time": "2019-12-16T07:39:47.150848Z",
     "start_time": "2019-12-16T07:39:47.071864Z"
    }
   },
   "outputs": [
    {
     "name": "stdout",
     "output_type": "stream",
     "text": [
      "The autoreload extension is already loaded. To reload it, use:\n",
      "  %reload_ext autoreload\n"
     ]
    },
    {
     "data": {
      "text/html": [
       "<style>.container { width:75% !important; }</style>"
      ],
      "text/plain": [
       "<IPython.core.display.HTML object>"
      ]
     },
     "metadata": {},
     "output_type": "display_data"
    }
   ],
   "source": [
    "%load_ext autoreload\n",
    "%autoreload 2\n",
    "\n",
    "import matplotlib\n",
    "import matplotlib.pyplot as plt\n",
    "%matplotlib inline\n",
    "\n",
    "import warnings\n",
    "warnings.filterwarnings(\"ignore\", category=DeprecationWarning)\n",
    "\n",
    "import numpy as np\n",
    "import pandas as pd\n",
    "\n",
    "from IPython.core.display import display, HTML\n",
    "from IPython.display import clear_output\n",
    "\n",
    "pd.options.display.max_rows = 500\n",
    "pd.options.display.max_columns = 500\n",
    "pd.options.display.width = 2000\n",
    "pd.options.display.max_colwidth = 2000\n",
    "\n",
    "display(HTML(\"<style>.container { width:75% !important; }</style>\"))"
   ]
  },
  {
   "cell_type": "code",
   "execution_count": 2,
   "metadata": {
    "ExecuteTime": {
     "end_time": "2019-12-16T07:17:00.095260Z",
     "start_time": "2019-12-16T07:16:59.970340Z"
    }
   },
   "outputs": [
    {
     "data": {
      "text/plain": [
       "Index(['alpha', 'avg_patrician_wealth', 'avg_plebeian_wealth', 'beta', 'diff_avg_wealth', 'diff_num_trans', 'diff_wealth_by_trans', 'gamma', 'mu', 'n_patricians', 'n_plebeians', 'patrician_transactions', 'patrician_wealth_by_trans', 'plebeian_transactions', 'plebeian_wealth_by_trans', 'sigma', 'symmetric'], dtype='object')"
      ]
     },
     "execution_count": 2,
     "metadata": {},
     "output_type": "execute_result"
    }
   ],
   "source": [
    "df = pd.read_csv('results.csv')\n",
    "df.columns"
   ]
  },
  {
   "cell_type": "code",
   "execution_count": 3,
   "metadata": {
    "ExecuteTime": {
     "end_time": "2019-12-16T07:17:10.997940Z",
     "start_time": "2019-12-16T07:17:10.904238Z"
    }
   },
   "outputs": [
    {
     "data": {
      "text/html": [
       "<div>\n",
       "<style scoped>\n",
       "    .dataframe tbody tr th:only-of-type {\n",
       "        vertical-align: middle;\n",
       "    }\n",
       "\n",
       "    .dataframe tbody tr th {\n",
       "        vertical-align: top;\n",
       "    }\n",
       "\n",
       "    .dataframe thead th {\n",
       "        text-align: right;\n",
       "    }\n",
       "</style>\n",
       "<table border=\"1\" class=\"dataframe\">\n",
       "  <thead>\n",
       "    <tr style=\"text-align: right;\">\n",
       "      <th></th>\n",
       "      <th>alpha</th>\n",
       "      <th>avg_patrician_wealth</th>\n",
       "      <th>avg_plebeian_wealth</th>\n",
       "      <th>beta</th>\n",
       "      <th>diff_avg_wealth</th>\n",
       "      <th>diff_num_trans</th>\n",
       "      <th>diff_wealth_by_trans</th>\n",
       "      <th>gamma</th>\n",
       "      <th>mu</th>\n",
       "      <th>n_patricians</th>\n",
       "      <th>n_plebeians</th>\n",
       "      <th>patrician_transactions</th>\n",
       "      <th>patrician_wealth_by_trans</th>\n",
       "      <th>plebeian_transactions</th>\n",
       "      <th>plebeian_wealth_by_trans</th>\n",
       "      <th>sigma</th>\n",
       "      <th>symmetric</th>\n",
       "    </tr>\n",
       "  </thead>\n",
       "  <tbody>\n",
       "    <tr>\n",
       "      <th>0</th>\n",
       "      <td>0.5</td>\n",
       "      <td>2.750783</td>\n",
       "      <td>2.704219</td>\n",
       "      <td>0.5</td>\n",
       "      <td>-0.046564</td>\n",
       "      <td>-537</td>\n",
       "      <td>0.100548</td>\n",
       "      <td>0.25</td>\n",
       "      <td>(-0.5, 0.5)</td>\n",
       "      <td>100</td>\n",
       "      <td>100</td>\n",
       "      <td>1482</td>\n",
       "      <td>0.185613</td>\n",
       "      <td>945</td>\n",
       "      <td>0.286161</td>\n",
       "      <td>0.1</td>\n",
       "      <td>True</td>\n",
       "    </tr>\n",
       "    <tr>\n",
       "      <th>1</th>\n",
       "      <td>0.5</td>\n",
       "      <td>3.056204</td>\n",
       "      <td>3.111794</td>\n",
       "      <td>0.5</td>\n",
       "      <td>0.055590</td>\n",
       "      <td>-374</td>\n",
       "      <td>0.074285</td>\n",
       "      <td>0.50</td>\n",
       "      <td>(-0.5, 0.5)</td>\n",
       "      <td>100</td>\n",
       "      <td>100</td>\n",
       "      <td>1485</td>\n",
       "      <td>0.205805</td>\n",
       "      <td>1111</td>\n",
       "      <td>0.280090</td>\n",
       "      <td>0.1</td>\n",
       "      <td>True</td>\n",
       "    </tr>\n",
       "    <tr>\n",
       "      <th>2</th>\n",
       "      <td>0.5</td>\n",
       "      <td>3.468737</td>\n",
       "      <td>3.446000</td>\n",
       "      <td>0.5</td>\n",
       "      <td>-0.022736</td>\n",
       "      <td>-240</td>\n",
       "      <td>0.040773</td>\n",
       "      <td>1.00</td>\n",
       "      <td>(-0.5, 0.5)</td>\n",
       "      <td>100</td>\n",
       "      <td>100</td>\n",
       "      <td>1524</td>\n",
       "      <td>0.227607</td>\n",
       "      <td>1284</td>\n",
       "      <td>0.268380</td>\n",
       "      <td>0.1</td>\n",
       "      <td>True</td>\n",
       "    </tr>\n",
       "    <tr>\n",
       "      <th>3</th>\n",
       "      <td>0.5</td>\n",
       "      <td>1.673414</td>\n",
       "      <td>1.729786</td>\n",
       "      <td>1.0</td>\n",
       "      <td>0.056372</td>\n",
       "      <td>-873</td>\n",
       "      <td>0.181772</td>\n",
       "      <td>0.25</td>\n",
       "      <td>(-0.5, 0.5)</td>\n",
       "      <td>100</td>\n",
       "      <td>100</td>\n",
       "      <td>1456</td>\n",
       "      <td>0.114932</td>\n",
       "      <td>583</td>\n",
       "      <td>0.296704</td>\n",
       "      <td>0.1</td>\n",
       "      <td>True</td>\n",
       "    </tr>\n",
       "    <tr>\n",
       "      <th>4</th>\n",
       "      <td>0.5</td>\n",
       "      <td>2.004227</td>\n",
       "      <td>2.002023</td>\n",
       "      <td>1.0</td>\n",
       "      <td>-0.002203</td>\n",
       "      <td>-737</td>\n",
       "      <td>0.139629</td>\n",
       "      <td>0.50</td>\n",
       "      <td>(-0.5, 0.5)</td>\n",
       "      <td>100</td>\n",
       "      <td>100</td>\n",
       "      <td>1460</td>\n",
       "      <td>0.137276</td>\n",
       "      <td>723</td>\n",
       "      <td>0.276905</td>\n",
       "      <td>0.1</td>\n",
       "      <td>True</td>\n",
       "    </tr>\n",
       "  </tbody>\n",
       "</table>\n",
       "</div>"
      ],
      "text/plain": [
       "   alpha  avg_patrician_wealth  avg_plebeian_wealth  beta  diff_avg_wealth  diff_num_trans  diff_wealth_by_trans  gamma           mu  n_patricians  n_plebeians  patrician_transactions  patrician_wealth_by_trans  plebeian_transactions  plebeian_wealth_by_trans  sigma  symmetric\n",
       "0    0.5              2.750783             2.704219   0.5        -0.046564            -537              0.100548   0.25  (-0.5, 0.5)           100          100                    1482                   0.185613                    945                  0.286161    0.1       True\n",
       "1    0.5              3.056204             3.111794   0.5         0.055590            -374              0.074285   0.50  (-0.5, 0.5)           100          100                    1485                   0.205805                   1111                  0.280090    0.1       True\n",
       "2    0.5              3.468737             3.446000   0.5        -0.022736            -240              0.040773   1.00  (-0.5, 0.5)           100          100                    1524                   0.227607                   1284                  0.268380    0.1       True\n",
       "3    0.5              1.673414             1.729786   1.0         0.056372            -873              0.181772   0.25  (-0.5, 0.5)           100          100                    1456                   0.114932                    583                  0.296704    0.1       True\n",
       "4    0.5              2.004227             2.002023   1.0        -0.002203            -737              0.139629   0.50  (-0.5, 0.5)           100          100                    1460                   0.137276                    723                  0.276905    0.1       True"
      ]
     },
     "execution_count": 3,
     "metadata": {},
     "output_type": "execute_result"
    }
   ],
   "source": [
    "df.head()"
   ]
  },
  {
   "cell_type": "code",
   "execution_count": 28,
   "metadata": {
    "ExecuteTime": {
     "end_time": "2019-12-16T07:57:32.453719Z",
     "start_time": "2019-12-16T07:57:29.085584Z"
    }
   },
   "outputs": [
    {
     "data": {
      "text/plain": [
       "<matplotlib.legend.Legend at 0x7fb5ec32b6d8>"
      ]
     },
     "execution_count": 28,
     "metadata": {},
     "output_type": "execute_result"
    },
    {
     "data": {
      "image/png": "[encoded data removed]",
      "text/plain": [
       "<Figure size 432x288 with 1 Axes>"
      ]
     },
     "metadata": {
      "needs_background": "light"
     },
     "output_type": "display_data"
    }
   ],
   "source": [
    "mu_idx = df.mu == \"(-3.0, 3.0)\"\n",
    "sigma_idx = df.sigma == 0.5\n",
    "beta_idx = df.beta == 1.5\n",
    "gamma_idx = df.gamma == 0.25\n",
    "\n",
    "x = df[mu_idx & sigma_idx & beta_idx & gamma_idx]['alpha']\n",
    "\n",
    "y_patrician_wealth = df[mu_idx & sigma_idx & beta_idx & gamma_idx]['avg_patrician_wealth']\n",
    "y_plebeian_wealth = df[mu_idx & sigma_idx & beta_idx & gamma_idx]['avg_plebeian_wealth']\n",
    "\n",
    "matplotlib.rcParams['text.usetex'] = True\n",
    "\n",
    "fig = plt.figure()\n",
    "ax = fig.gca()\n",
    "\n",
    "ax.plot(x, y_patrician_wealth, label='Avg patrician wealth')\n",
    "ax.plot(x, y_plebeian_wealth, label='Avg plebeian wealth')\n",
    "\n",
    "ax.set_title(r\"Average wealth, $\\beta=0.5$, $\\gamma=0.25$\")\n",
    "ax.set_xlabel(r\"$\\alpha$\")\n",
    "ax.set_ylabel(\"wealth\")\n",
    "ax.legend()"
   ]
  },
  {
   "cell_type": "code",
   "execution_count": 26,
   "metadata": {
    "ExecuteTime": {
     "end_time": "2019-12-16T07:56:50.479332Z",
     "start_time": "2019-12-16T07:56:50.435164Z"
    }
   },
   "outputs": [
    {
     "data": {
      "text/plain": [
       "array([0.25, 0.5 , 1.  ])"
      ]
     },
     "execution_count": 26,
     "metadata": {},
     "output_type": "execute_result"
    }
   ],
   "source": [
    "df.gamma.unique()"
   ]
  },
  {
   "cell_type": "code",
   "execution_count": null,
   "metadata": {},
   "outputs": [],
   "source": []
  }
 ],
 "metadata": {
  "kernelspec": {
   "display_name": "Python 3",
   "language": "python",
   "name": "python3"
  },
  "language_info": {
   "codemirror_mode": {
    "name": "ipython",
    "version": 3
   },
   "file_extension": ".py",
   "mimetype": "text/x-python",
   "name": "python",
   "nbconvert_exporter": "python",
   "pygments_lexer": "ipython3",
   "version": "3.7.3"
  },
  "toc": {
   "base_numbering": 1,
   "nav_menu": {},
   "number_sections": true,
   "sideBar": true,
   "skip_h1_title": false,
   "title_cell": "Table of Contents",
   "title_sidebar": "Contents",
   "toc_cell": false,
   "toc_position": {},
   "toc_section_display": true,
   "toc_window_display": false
  }
 },
 "nbformat": 4,
 "nbformat_minor": 2
}
